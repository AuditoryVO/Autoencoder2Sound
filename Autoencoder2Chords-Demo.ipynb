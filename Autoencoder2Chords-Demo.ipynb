{
 "cells": [
  {
   "cell_type": "markdown",
   "metadata": {},
   "source": [
    "# Auditory exploration of the MILES stellar library\n",
    "\n",
    "Data download: http://svocats.cab.inta-csic.es/miles/index.php?action=credits\n",
    "#### ACKNOWLEDGMENT\n",
    "This work is based on data from the MILES service developed by the Spanish Virtual Observatory in the framework of the IAU Comission G5 Working Group : Spectral Stellar Libraries."
   ]
  },
  {
   "cell_type": "code",
   "execution_count": 1,
   "metadata": {},
   "outputs": [],
   "source": [
    "import tensorflow as tf\n",
    "\n",
    "from astropy.io import fits\n",
    "import numpy as np\n",
    "import matplotlib.pyplot as plt\n",
    "\n",
    "import time\n",
    "from pythonosc import udp_client\n",
    "\n",
    "import os\n",
    "from pathlib import Path"
   ]
  },
  {
   "cell_type": "markdown",
   "metadata": {},
   "source": [
    "## Importing the autoencoder"
   ]
  },
  {
   "cell_type": "code",
   "execution_count": 2,
   "metadata": {},
   "outputs": [],
   "source": [
    "autoencoder = tf.keras.models.load_model('2layers_Miles_autoencoder.tf')"
   ]
  },
  {
   "cell_type": "code",
   "execution_count": 3,
   "metadata": {},
   "outputs": [],
   "source": [
    "root = '## YOUR FOLDER PATH TO THE DOWNLOADED SPECTRA ##'"
   ]
  },
  {
   "cell_type": "markdown",
   "metadata": {},
   "source": [
    "## Launching the sonification"
   ]
  },
  {
   "cell_type": "code",
   "execution_count": 4,
   "metadata": {
    "scrolled": false
   },
   "outputs": [
    {
     "name": "stdout",
     "output_type": "stream",
     "text": [
      " 1 Spectrum represented: miles_spec_fits_s0597\n",
      "[1.43259764]\n",
      "[5600.06797314]\n",
      "[511.75683737]\n",
      "[159.88439322]\n",
      "[0.08190475]\n",
      "[4.72545624]\n",
      "[8499.58181381]\n",
      "[42.63997078]\n",
      "[3.14116478]\n",
      "[1.42067671]\n",
      " 2 Spectrum represented: miles_spec_fits_s0981\n",
      "[5.49077988]\n",
      "[4448.56017828]\n",
      "[509.69898701]\n",
      "[553.11441422]\n",
      "[0.22598822]\n",
      "[24.28144217]\n",
      "[3870.48512697]\n",
      "[350.67975521]\n",
      "[20.16782761]\n",
      "[3.46153975]\n",
      " 3 Spectrum represented: miles_spec_fits_s0578\n",
      "[9916.15772247]\n",
      "[1227.57226229]\n",
      "[1586.6535902]\n",
      "[9964.1752243]\n",
      "[4293.29305887]\n",
      "[9981.70137405]\n",
      "[0.00713411]\n",
      "[9999.95172024]\n",
      "[9999.58157539]\n",
      "[4719.77174282]\n",
      " 4 Spectrum represented: miles_spec_fits_s0082\n",
      "[187.95222044]\n",
      "[318.32963228]\n",
      "[265.94817638]\n",
      "[5802.74045467]\n",
      "[6.38961792]\n",
      "[7714.60652351]\n",
      "[2.83867121]\n",
      "[9937.67499924]\n",
      "[6345.65770626]\n",
      "[937.64871359]\n",
      " 5 Spectrum represented: miles_spec_fits_s0128\n",
      "[38.96892071]\n",
      "[1109.60245132]\n",
      "[383.24028254]\n",
      "[2811.76447868]\n",
      "[1.44630671]\n",
      "[1143.85157824]\n",
      "[90.64227343]\n",
      "[7728.79362106]\n",
      "[663.3657217]\n",
      "[82.10003376]\n"
     ]
    },
    {
     "ename": "KeyboardInterrupt",
     "evalue": "",
     "output_type": "error",
     "traceback": [
      "\u001b[0;31m---------------------------------------------------------------------------\u001b[0m",
      "\u001b[0;31mKeyboardInterrupt\u001b[0m                         Traceback (most recent call last)",
      "\u001b[0;32m<ipython-input-4-447d5c450272>\u001b[0m in \u001b[0;36m<module>\u001b[0;34m\u001b[0m\n\u001b[1;32m     88\u001b[0m         \u001b[0mprint\u001b[0m\u001b[0;34m(\u001b[0m\u001b[0mx\u001b[0m\u001b[0;34m[\u001b[0m\u001b[0;36m9\u001b[0m\u001b[0;34m]\u001b[0m\u001b[0;34m)\u001b[0m\u001b[0;34m\u001b[0m\u001b[0;34m\u001b[0m\u001b[0m\n\u001b[1;32m     89\u001b[0m         \u001b[0mplt\u001b[0m\u001b[0;34m.\u001b[0m\u001b[0mclose\u001b[0m\u001b[0;34m(\u001b[0m\u001b[0mfig\u001b[0m\u001b[0;34m)\u001b[0m\u001b[0;34m\u001b[0m\u001b[0;34m\u001b[0m\u001b[0m\n\u001b[0;32m---> 90\u001b[0;31m         \u001b[0mtime\u001b[0m\u001b[0;34m.\u001b[0m\u001b[0msleep\u001b[0m\u001b[0;34m(\u001b[0m\u001b[0mduration\u001b[0m\u001b[0;34m+\u001b[0m\u001b[0;36m1\u001b[0m\u001b[0;34m)\u001b[0m\u001b[0;34m\u001b[0m\u001b[0;34m\u001b[0m\u001b[0m\n\u001b[0m\u001b[1;32m     91\u001b[0m \u001b[0;34m\u001b[0m\u001b[0m\n\u001b[1;32m     92\u001b[0m         \u001b[0mclient_s\u001b[0m\u001b[0;34m.\u001b[0m\u001b[0msend_message\u001b[0m\u001b[0;34m(\u001b[0m\u001b[0;34m\"/s\"\u001b[0m\u001b[0;34m,\u001b[0m \u001b[0;36m0\u001b[0m\u001b[0;34m)\u001b[0m\u001b[0;34m\u001b[0m\u001b[0;34m\u001b[0m\u001b[0m\n",
      "\u001b[0;31mKeyboardInterrupt\u001b[0m: "
     ]
    }
   ],
   "source": [
    "curves=0\n",
    "for path, subdirs, files in os.walk(root):\n",
    "    for name in files:\n",
    "        curves=curves+1\n",
    "        file = [os.path.join(path, name)]\n",
    "        str = \" \" \n",
    "        Ffile = (str.join(file))\n",
    "        route = Path(name)\n",
    "        Fname = route.with_suffix('')\n",
    "        Fpng = route.with_suffix('.png')\n",
    "        \n",
    "        \n",
    "        sp = fits.open(Ffile)\n",
    "        flux2 = np.array(sp[0].data)\n",
    "        flux_norm = flux2/(np.nanmax(flux2))\n",
    "        wave2 = np.ones(sp[0].header['NAXIS1'], dtype=float)\n",
    "        for i in range(sp[0].header['NAXIS1']):\n",
    "            wave2[i] = sp[0].header['CRVAL1'] + i*sp[0].header['CDELT1']\n",
    "        sp.close()\n",
    "        \n",
    "        flux_print = np.squeeze(flux_norm)\n",
    "        \n",
    "        encoded_imgs = autoencoder.encoder(flux_norm).numpy()\n",
    "        decoded_imgs = autoencoder.decoder(encoded_imgs).numpy()\n",
    "       \n",
    "        fig, ax = plt.subplots(1, 2, figsize=(16, 6))\n",
    "        fig.suptitle(Fname, size=14)\n",
    "        fig.subplots_adjust(hspace=0.35, wspace=0.15, left=0.07, right=0.97)\n",
    "        \n",
    "        ax[0].plot(wave2, flux_print)\n",
    "        ax[0].set_xlabel('Original Spectra')   \n",
    "        ax[1].plot(wave2, decoded_imgs[0])\n",
    "        ax[1].set_xlabel('Decoded Spectra')\n",
    "        plt.savefig('Autoencoder.png')\n",
    "        \n",
    "        encoded_imgs = np.squeeze(encoded_imgs)\n",
    "        x = np.zeros((len(encoded_imgs), 1))\n",
    "        for i in range(len(encoded_imgs)):\n",
    "            x[i] = encoded_imgs[i]*10000\n",
    "        \n",
    "        \n",
    "        duration = 4\n",
    "        interval = 1\n",
    "        \n",
    "        print (\"\", curves, \"Spectrum represented:\",Fname)\n",
    "\n",
    "        client_s = udp_client.SimpleUDPClient(\"127.0.0.1\", 9989)\n",
    "        client_s.send_message(\"/s\", 1)\n",
    "\n",
    "        client0 = udp_client.SimpleUDPClient(\"127.0.0.1\", 9990)   \n",
    "        client0.send_message(\"/0\", x[0])\n",
    "        print(x[0])\n",
    " #       time.sleep(interval)\n",
    "        client1 = udp_client.SimpleUDPClient(\"127.0.0.1\", 9991) \n",
    "        client1.send_message(\"/1\", x[1])\n",
    "        print(x[1])\n",
    "  #      time.sleep(interval)\n",
    "        client2 = udp_client.SimpleUDPClient(\"127.0.0.1\", 9992) \n",
    "        client2.send_message(\"/2\", x[2])\n",
    "        print(x[2])\n",
    "   #     time.sleep(interval)\n",
    "        client3 = udp_client.SimpleUDPClient(\"127.0.0.1\", 9993) \n",
    "        client3.send_message(\"/3\", x[3])\n",
    "        print(x[3])\n",
    "    #    time.sleep(interval)\n",
    "        client4 = udp_client.SimpleUDPClient(\"127.0.0.1\", 9994) \n",
    "        client4.send_message(\"/4\", x[4])\n",
    "        print(x[4])\n",
    "     #   time.sleep(interval)\n",
    "        client5 = udp_client.SimpleUDPClient(\"127.0.0.1\", 9995)\n",
    "        client5.send_message(\"/5\", x[5])\n",
    "        print(x[5])\n",
    "      #  time.sleep(interval)\n",
    "        client6 = udp_client.SimpleUDPClient(\"127.0.0.1\", 9996)\n",
    "        client6.send_message(\"/6\", x[6])\n",
    "        print(x[6])\n",
    "   #     time.sleep(interval)\n",
    "        client7 = udp_client.SimpleUDPClient(\"127.0.0.1\", 9997)\n",
    "        client7.send_message(\"/7\", x[7])\n",
    "        print(x[7])\n",
    "    #    time.sleep(interval)\n",
    "        client8 = udp_client.SimpleUDPClient(\"127.0.0.1\", 9998)\n",
    "        client8.send_message(\"/8\", x[8])\n",
    "        print(x[8])\n",
    "     #   time.sleep(interval)\n",
    "        client9 = udp_client.SimpleUDPClient(\"127.0.0.1\", 9999)\n",
    "        client9.send_message(\"/9\", x[9])\n",
    "        print(x[9])\n",
    "        plt.close(fig)\n",
    "        time.sleep(duration+1)\n",
    "        \n",
    "        client_s.send_message(\"/s\", 0)\n",
    "        "
   ]
  },
  {
   "cell_type": "code",
   "execution_count": null,
   "metadata": {},
   "outputs": [],
   "source": [
    "import session_info\n",
    "session_info.show()"
   ]
  }
 ],
 "metadata": {
  "kernelspec": {
   "display_name": "Python 3 (ipykernel)",
   "language": "python",
   "name": "python3"
  },
  "language_info": {
   "codemirror_mode": {
    "name": "ipython",
    "version": 3
   },
   "file_extension": ".py",
   "mimetype": "text/x-python",
   "name": "python",
   "nbconvert_exporter": "python",
   "pygments_lexer": "ipython3",
   "version": "3.8.5"
  }
 },
 "nbformat": 4,
 "nbformat_minor": 4
}
